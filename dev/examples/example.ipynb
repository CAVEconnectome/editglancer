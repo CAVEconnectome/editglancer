{
 "cells": [
  {
   "cell_type": "markdown",
   "metadata": {},
   "source": [
    "# Using editglancer\n",
    "\n",
    "Editglancer is a small Python package for generating neuroglancer links which depict\n",
    "the edits to a neuron in a PyChunkedGraph. This notebook demonstrates how to use it.\n"
   ]
  },
  {
   "cell_type": "markdown",
   "metadata": {},
   "source": [
    "Start a CAVEclient for your datastack, here \"minnie65_phase3_v1\". Note that you may\n",
    "need to change the datastack to one you have access too. For more information, first\n",
    "visit the CAVEclient tutorials.\n"
   ]
  },
  {
   "cell_type": "code",
   "execution_count": 15,
   "metadata": {},
   "outputs": [],
   "source": [
    "from caveclient import CAVEclient\n",
    "\n",
    "client = CAVEclient(\n",
    "    \"minnie65_phase3_v1\",\n",
    "    pool_maxsize=20,\n",
    "    pool_block=True,\n",
    ")"
   ]
  },
  {
   "cell_type": "markdown",
   "metadata": {},
   "source": [
    "Select a root ID (a neuron in this case) to visualize.\n"
   ]
  },
  {
   "cell_type": "code",
   "execution_count": 12,
   "metadata": {},
   "outputs": [],
   "source": [
    "root_id = 864691136487559186"
   ]
  },
  {
   "cell_type": "markdown",
   "metadata": {},
   "source": [
    "Generate a neuroglancer link to visualize the neuron and its edits.\n"
   ]
  },
  {
   "cell_type": "code",
   "execution_count": 14,
   "metadata": {},
   "outputs": [
    {
     "data": {
      "text/html": [
       "<a href=\"https://neuroglancer.neuvue.io/#!%7B%22jsonStateServer%22:%22https://global.daf-apis.com/nglstate/api/v1/post%22,%22navigation%22:%7B%22pose%22:%7B%22position%22:%7B%22voxelSize%22:%5B4.0,4.0,40.0%5D,%22voxelCoordinates%22:%5B159415.0,261368.0,22931.75%5D%7D%7D,%22zoomFactor%22:2.0%7D,%22showSlices%22:false,%22layout%22:%22xy-3d%22,%22perspectiveZoom%22:2000.0,%22layers%22:%5B%7B%22type%22:%22image%22,%22source%22:%22precomputed://https://bossdb-open-data.s3.amazonaws.com/iarpa_microns/minnie/minnie65/em%22,%22name%22:%22img%22%7D,%7B%22type%22:%22segmentation_with_graph%22,%22source%22:%22graphene://https://minnie.microns-daf.com/segmentation/table/minnie3_v1%22,%22segments%22:%5B%22864691136487559186%22%5D,%22segmentColors%22:%7B%7D,%22selectedAlpha%22:0.3,%22objectAlpha%22:1.0,%22notSelectedAlpha%22:0.0,%22name%22:%22seg%22%7D,%7B%22type%22:%22annotation%22,%22filterBySegmentation%22:false,%22bracketShortcutsShowSegmentation%22:true,%22annotationSelectionShowsSegmentation%22:true,%22annotationColor%22:%22#2796a8%22,%22annotations%22:%5B%7B%22tagIds%22:%5B%5D,%22type%22:%22point%22,%22point%22:%5B178936.0,259568.0,23569.0%5D,%22id%22:%22ce058fa0195a2379c4d75f1884c66b34bdeb4da0%22,%22description%22:%2294559%22,%22segments%22:%5B%5D%7D,%7B%22tagIds%22:%5B%5D,%22type%22:%22point%22,%22point%22:%5B170666.0,200516.0,20531.0%5D,%22id%22:%22a41c67e6d4ea6eb5f14ce6b2ac0cccbba7eb9adb%22,%22description%22:%22279988%22,%22segments%22:%5B%5D%7D,%7B%22tagIds%22:%5B%5D,%22type%22:%22point%22,%22point%22:%5B169881.0,183345.0,20591.0%5D,%22id%22:%22806769c20c82951aca8ca6bdf05a6e70c80b8c97%22,%22description%22:%22279989%22,%22segments%22:%5B%5D%7D,%7B%22tagIds%22:%5B%5D,%22type%22:%22point%22,%22point%22:%5B169395.0,183461.0,20599.0%5D,%22id%22:%22b56a4788e5635b6374964b78e9fdc03e3473d8ba%22,%22description%22:%22279990%22,%22segments%22:%5B%5D%7D,%7B%22tagIds%22:%5B%5D,%22type%22:%22point%22,%22point%22:%5B167487.0,196431.0,20569.0%5D,%22id%22:%22d0ff6f1e89749363f10433f12218cd37c19a141d%22,%22description%22:%22279991%22,%22segments%22:%5B%5D%7D,%7B%22tagIds%22:%5B%5D,%22type%22:%22point%22,%22point%22:%5B180660.0,262688.0,24054.0%5D,%22id%22:%22b71e1e5c67d83d3126ac65181e513eb47b8aa7e2%22,%22description%22:%22282339%22,%22segments%22:%5B%5D%7D%5D,%22name%22:%22merge%22%7D,%7B%22type%22:%22annotation%22,%22linkedSegmentationLayer%22:%22seg%22,%22filterBySegmentation%22:false,%22bracketShortcutsShowSegmentation%22:true,%22annotationSelectionShowsSegmentation%22:true,%22annotationColor%22:%22#cc4b35%22,%22annotations%22:%5B%7B%22tagIds%22:%5B%5D,%22type%22:%22point%22,%22point%22:%5B159415.0,261368.0,22931.0%5D,%22id%22:%22f03fa7bc9ec99b53cec20798da5642b8afb8b53a%22,%22description%22:%22226309%22,%22segments%22:%5B%5D%7D,%7B%22tagIds%22:%5B%5D,%22type%22:%22point%22,%22point%22:%5B150491.0,259895.0,22283.0%5D,%22id%22:%22b69d6d5a5b52fec312a2458c562763d071c3c82f%22,%22description%22:%22226338%22,%22segments%22:%5B%5D%7D,%7B%22tagIds%22:%5B%5D,%22type%22:%22point%22,%22point%22:%5B156857.0,261701.0,22775.0%5D,%22id%22:%22ecadfd69de91800bf0ef0f7c1d7f092d91b61b65%22,%22description%22:%22226344%22,%22segments%22:%5B%22864691135571396645%22%5D%7D,%7B%22tagIds%22:%5B%5D,%22type%22:%22point%22,%22point%22:%5B168379.0,240086.0,25656.0%5D,%22id%22:%221324480da10a48a5a7ff7f9022bd41a823af22ae%22,%22description%22:%22279992%22,%22segments%22:%5B%22864691135323192476%22%5D%7D,%7B%22tagIds%22:%5B%5D,%22type%22:%22point%22,%22point%22:%5B157523.0,262364.0,24346.0%5D,%22id%22:%2290955faaa5566489515631826562623958b92c09%22,%22description%22:%22279995%22,%22segments%22:%5B%22864691135490428775%22%5D%7D,%7B%22tagIds%22:%5B%5D,%22type%22:%22point%22,%22point%22:%5B176912.0,261335.0,24689.0%5D,%22id%22:%222a6a46a9ede4c038cc2855d34c847c0d3ff6fb4e%22,%22description%22:%22478077%22,%22segments%22:%5B%22864691135754252493%22%5D%7D,%7B%22tagIds%22:%5B%5D,%22type%22:%22point%22,%22point%22:%5B177333.0,264662.0,24909.0%5D,%22id%22:%228c6435762d930e02814e1c355a347182e833d9eb%22,%22description%22:%22478128%22,%22segments%22:%5B%22864691135856340782%22%5D%7D,%7B%22tagIds%22:%5B%5D,%22type%22:%22point%22,%22point%22:%5B177648.0,266374.0,24954.0%5D,%22id%22:%22194acbdf0ec93975857a3109634c7ad5ee9a2530%22,%22description%22:%22478164%22,%22segments%22:%5B%22864691135724863403%22%5D%7D,%7B%22tagIds%22:%5B%5D,%22type%22:%22point%22,%22point%22:%5B178627.0,270108.0,24965.0%5D,%22id%22:%22eedad98a18a21bda6b5b2f7748cb34043a3d3b1c%22,%22description%22:%22478214%22,%22segments%22:%5B%22864691135946160932%22%5D%7D,%7B%22tagIds%22:%5B%5D,%22type%22:%22point%22,%22point%22:%5B178715.0,270588.0,24944.0%5D,%22id%22:%227ab08f316c10796519e23fd5873409ac89b00bad%22,%22description%22:%22478232%22,%22segments%22:%5B%22864691136106030809%22%5D%7D,%7B%22tagIds%22:%5B%5D,%22type%22:%22point%22,%22point%22:%5B172818.0,250891.0,24428.0%5D,%22id%22:%22ef5115b7ce72dfd708ff9efee300e9757c8e4e1a%22,%22description%22:%22478286%22,%22segments%22:%5B%22864691135940154534%22%5D%7D,%7B%22tagIds%22:%5B%5D,%22type%22:%22point%22,%22point%22:%5B171097.0,245389.0,25414.0%5D,%22id%22:%2286172500a0bd186582fd559131569be1379acc19%22,%22description%22:%22478312%22,%22segments%22:%5B%22864691135387076737%22%5D%7D,%7B%22tagIds%22:%5B%5D,%22type%22:%22point%22,%22point%22:%5B168658.0,240242.0,25655.0%5D,%22id%22:%224d2985e000deed66134605c173d084cfb3222ec7%22,%22description%22:%22478401%22,%22segments%22:%5B%22864691135693295807%22%5D%7D,%7B%22tagIds%22:%5B%5D,%22type%22:%22point%22,%22point%22:%5B167150.0,238432.0,26095.0%5D,%22id%22:%22627be26af8b5224d891e79a653782391a9ee84cf%22,%22description%22:%22478431%22,%22segments%22:%5B%22864691136106031833%22%5D%7D,%7B%22tagIds%22:%5B%5D,%22type%22:%22point%22,%22point%22:%5B166559.0,237784.0,26204.0%5D,%22id%22:%229ff47e630e5317c729becec85cbbba790ad8f05e%22,%22description%22:%22478515%22,%22segments%22:%5B%22864691136135021963%22%5D%7D,%7B%22tagIds%22:%5B%5D,%22type%22:%22point%22,%22point%22:%5B189754.0,260575.0,24066.0%5D,%22id%22:%2265ae434af5bd6908b31805d27a14814c17edf2c1%22,%22description%22:%22478567%22,%22segments%22:%5B%22864691135730811065%22%5D%7D,%7B%22tagIds%22:%5B%5D,%22type%22:%22point%22,%22point%22:%5B189717.0,260541.0,24142.0%5D,%22id%22:%22e87aaa6ef2481cf2791c14f81c3eb70858fe7a0c%22,%22description%22:%22478585%22,%22segments%22:%5B%22864691136135022219%22%5D%7D,%7B%22tagIds%22:%5B%5D,%22type%22:%22point%22,%22point%22:%5B191198.0,260665.0,24290.0%5D,%22id%22:%22a5c2e89fe6fd8164b1617ef96366319f8a05c0de%22,%22description%22:%22478628%22,%22segments%22:%5B%22864691135730811577%22%5D%7D,%7B%22tagIds%22:%5B%5D,%22type%22:%22point%22,%22point%22:%5B198527.0,261565.0,24558.0%5D,%22id%22:%22251be426bbcc818d6d49ae8b89f4247e05ee59a2%22,%22description%22:%22478682%22,%22segments%22:%5B%22864691135884481392%22%5D%7D,%7B%22tagIds%22:%5B%5D,%22type%22:%22point%22,%22point%22:%5B209743.0,258707.0,25671.0%5D,%22id%22:%2202865f4e441f76085d1bc2bb09ae9508467be4fa%22,%22description%22:%22478708%22,%22segments%22:%5B%22864691135454625130%22%5D%7D,%7B%22tagIds%22:%5B%5D,%22type%22:%22point%22,%22point%22:%5B211390.0,258447.0,25792.0%5D,%22id%22:%226a941411f23e5f7905235a5a691e9b43c0632db6%22,%22description%22:%22478730%22,%22segments%22:%5B%22864691135800283234%22%5D%7D,%7B%22tagIds%22:%5B%5D,%22type%22:%22point%22,%22point%22:%5B165484.0,261331.0,23271.0%5D,%22id%22:%22106aeacb9562c99b3b454ba62fc7dbaa2b93d6ae%22,%22description%22:%22478779%22,%22segments%22:%5B%22864691136266988276%22%5D%7D,%7B%22tagIds%22:%5B%5D,%22type%22:%22point%22,%22point%22:%5B161383.0,261321.0,24100.0%5D,%22id%22:%221d369e4e3d987005ab8c77b508deb34a26b17594%22,%22description%22:%22478805%22,%22segments%22:%5B%22864691135724866475%22%5D%7D,%7B%22tagIds%22:%5B%5D,%22type%22:%22point%22,%22point%22:%5B144977.0,273280.0,24571.0%5D,%22id%22:%225d3a0287c02bf8bc528b3db62557b47acd967a49%22,%22description%22:%22478838%22,%22segments%22:%5B%5D%7D,%7B%22tagIds%22:%5B%5D,%22type%22:%22point%22,%22point%22:%5B145100.0,273267.0,24577.0%5D,%22id%22:%228c7393797dd26c213aff17b6d44867e68fe83ee2%22,%22description%22:%22478868%22,%22segments%22:%5B%22864691135975014767%22%5D%7D,%7B%22tagIds%22:%5B%5D,%22type%22:%22point%22,%22point%22:%5B145167.0,273435.0,24544.0%5D,%22id%22:%2251192700e697ec0175adf1d58b13658e7dc9e52e%22,%22description%22:%22478930%22,%22segments%22:%5B%22864691136741023836%22%5D%7D,%7B%22tagIds%22:%5B%5D,%22type%22:%22point%22,%22point%22:%5B155960.0,255718.0,23995.0%5D,%22id%22:%22d5e27414858de2910455f40918019045903776b5%22,%22description%22:%22478971%22,%22segments%22:%5B%22864691135526534491%22%5D%7D,%7B%22tagIds%22:%5B%5D,%22type%22:%22point%22,%22point%22:%5B155599.0,252867.0,24019.0%5D,%22id%22:%22129ada60e10cbba2fdc22145d31a695cd7dde5b8%22,%22description%22:%22479005%22,%22segments%22:%5B%22864691135614637259%22%5D%7D,%7B%22tagIds%22:%5B%5D,%22type%22:%22point%22,%22point%22:%5B160048.0,238709.0,21468.0%5D,%22id%22:%2267bcf032436e7f78775c40af6fce0e159f94d44c%22,%22description%22:%22479078%22,%22segments%22:%5B%22864691135889062025%22%5D%7D,%7B%22tagIds%22:%5B%5D,%22type%22:%22point%22,%22point%22:%5B173333.0,241673.0,22067.0%5D,%22id%22:%22f58472015713565288caa47ce6a7b2e49ffc0dbd%22,%22description%22:%22479106%22,%22segments%22:%5B%5D%7D,%7B%22tagIds%22:%5B%5D,%22type%22:%22point%22,%22point%22:%5B173326.0,241630.0,22069.0%5D,%22id%22:%22a3987825ef35fb97d291c501482bb29d7c462a24%22,%22description%22:%22479126%22,%22segments%22:%5B%22864691135724868267%22%5D%7D,%7B%22tagIds%22:%5B%5D,%22type%22:%22point%22,%22point%22:%5B171380.0,245362.0,21719.0%5D,%22id%22:%22c885840daf5fabf124bcaeb34429774a87c37f36%22,%22description%22:%22479150%22,%22segments%22:%5B%22864691135463220030%22%5D%7D,%7B%22tagIds%22:%5B%5D,%22type%22:%22point%22,%22point%22:%5B170235.0,249491.0,21453.0%5D,%22id%22:%22b2c841a31ef4ee7849ba3d8ff2b92106f1b57951%22,%22description%22:%22479180%22,%22segments%22:%5B%22864691135737365124%22%5D%7D,%7B%22tagIds%22:%5B%5D,%22type%22:%22point%22,%22point%22:%5B172575.0,212595.0,22277.0%5D,%22id%22:%22b7e67d1d14c5f45d14a8f968f6ec8b71c7e1d6db%22,%22description%22:%22479231%22,%22segments%22:%5B%22864691135785986500%22%5D%7D,%7B%22tagIds%22:%5B%5D,%22type%22:%22point%22,%22point%22:%5B172056.0,211970.0,22074.0%5D,%22id%22:%22a1cb63ddc4b1a4213406662fba29ed557672a7e5%22,%22description%22:%22479336%22,%22segments%22:%5B%22864691135526535771%22%5D%7D,%7B%22tagIds%22:%5B%5D,%22type%22:%22point%22,%22point%22:%5B170415.0,209408.0,21146.0%5D,%22id%22:%22de22c5194f98eba0f56e89f0c18e9e11101b6e2b%22,%22description%22:%22479383%22,%22segments%22:%5B%22864691135889063561%22%5D%7D,%7B%22tagIds%22:%5B%5D,%22type%22:%22point%22,%22point%22:%5B182889.0,198160.0,19189.0%5D,%22id%22:%22bada00710dc24bf7b782cbe798d810ce5f44ca0b%22,%22description%22:%22479392%22,%22segments%22:%5B%22864691135162919469%22%5D%7D,%7B%22tagIds%22:%5B%5D,%22type%22:%22point%22,%22point%22:%5B177447.0,257210.0,23026.0%5D,%22id%22:%226c933037e36ae8038211a3e6810b1254e698c09c%22,%22description%22:%22479573%22,%22segments%22:%5B%22864691136419132567%22%5D%7D,%7B%22tagIds%22:%5B%5D,%22type%22:%22point%22,%22point%22:%5B181086.0,261240.0,22244.0%5D,%22id%22:%2282073137996c0ffaf5a2baceee64288aa88c8645%22,%22description%22:%22479588%22,%22segments%22:%5B%22864691136100387957%22%5D%7D,%7B%22tagIds%22:%5B%5D,%22type%22:%22point%22,%22point%22:%5B177931.0,257980.0,22478.0%5D,%22id%22:%22cbfb641447a8d5fbc6bdbd95b3950dbecad0d863%22,%22description%22:%22479595%22,%22segments%22:%5B%22864691136100388213%22%5D%7D,%7B%22tagIds%22:%5B%5D,%22type%22:%22point%22,%22point%22:%5B177782.0,258266.0,22318.0%5D,%22id%22:%2250dbcea7c531d9390bb323e0ca977ad79d670106%22,%22description%22:%22479602%22,%22segments%22:%5B%22864691135889064841%22%5D%7D,%7B%22tagIds%22:%5B%5D,%22type%22:%22point%22,%22point%22:%5B182962.0,260857.0,22093.0%5D,%22id%22:%224ab823ca31985e9248282dac0bbc9b6c97c1511c%22,%22description%22:%22479629%22,%22segments%22:%5B%22864691135256735151%22%5D%7D,%7B%22tagIds%22:%5B%5D,%22type%22:%22point%22,%22point%22:%5B182233.0,255425.0,23024.0%5D,%22id%22:%22ff69b4e112ad28d1a8eda1886ef236a467004f7d%22,%22description%22:%22479642%22,%22segments%22:%5B%22864691136100388469%22%5D%7D,%7B%22tagIds%22:%5B%5D,%22type%22:%22point%22,%22point%22:%5B181046.0,244518.0,22953.0%5D,%22id%22:%22136eaa6e3b220028113149849d6a877246bb2f38%22,%22description%22:%22479652%22,%22segments%22:%5B%22864691135082319607%22%5D%7D,%7B%22tagIds%22:%5B%5D,%22type%22:%22point%22,%22point%22:%5B180766.0,231542.0,22540.0%5D,%22id%22:%22b7bf64cc6dbf114fcd943f348fe89d80b979179c%22,%22description%22:%22479732%22,%22segments%22:%5B%22864691136005385674%22%5D%7D%5D,%22name%22:%22split%22%7D%5D,%22selectedLayer%22:%7B%22layer%22:%22split%22%7D%7D\" target=\"_blank\">Neuroglancer Link</a>"
      ],
      "text/plain": [
       "<IPython.core.display.HTML object>"
      ]
     },
     "execution_count": 14,
     "metadata": {},
     "output_type": "execute_result"
    }
   ],
   "source": [
    "from editglancer import generate_link_for_root\n",
    "\n",
    "generate_link_for_root(root_id, client)"
   ]
  },
  {
   "cell_type": "code",
   "execution_count": 18,
   "metadata": {},
   "outputs": [
    {
     "data": {
      "text/html": [
       "<div>\n",
       "<style scoped>\n",
       "    .dataframe tbody tr th:only-of-type {\n",
       "        vertical-align: middle;\n",
       "    }\n",
       "\n",
       "    .dataframe tbody tr th {\n",
       "        vertical-align: top;\n",
       "    }\n",
       "\n",
       "    .dataframe thead th {\n",
       "        text-align: right;\n",
       "    }\n",
       "</style>\n",
       "<table border=\"1\" class=\"dataframe\">\n",
       "  <thead>\n",
       "    <tr style=\"text-align: right;\">\n",
       "      <th></th>\n",
       "      <th>root_id</th>\n",
       "      <th>op_id</th>\n",
       "      <th>user</th>\n",
       "      <th>timestamp</th>\n",
       "      <th>type</th>\n",
       "      <th>location</th>\n",
       "      <th>n_points</th>\n",
       "      <th>roots</th>\n",
       "      <th>disjoint_roots</th>\n",
       "    </tr>\n",
       "  </thead>\n",
       "  <tbody>\n",
       "    <tr>\n",
       "      <th>0</th>\n",
       "      <td>864691136487559186</td>\n",
       "      <td>94559</td>\n",
       "      <td>161</td>\n",
       "      <td>2020-08-03 14:43:34.305000+00:00</td>\n",
       "      <td>merge</td>\n",
       "      <td>[178936.0, 259568.0, 23569.5]</td>\n",
       "      <td>2</td>\n",
       "      <td>[864691135494087312]</td>\n",
       "      <td>[]</td>\n",
       "    </tr>\n",
       "    <tr>\n",
       "      <th>1</th>\n",
       "      <td>864691136487559186</td>\n",
       "      <td>226309</td>\n",
       "      <td>56</td>\n",
       "      <td>2021-04-14 01:32:20.568000+00:00</td>\n",
       "      <td>split</td>\n",
       "      <td>[159415.0, 261368.0, 22931.75]</td>\n",
       "      <td>4</td>\n",
       "      <td>[864691136011127459]</td>\n",
       "      <td>[]</td>\n",
       "    </tr>\n",
       "    <tr>\n",
       "      <th>2</th>\n",
       "      <td>864691136487559186</td>\n",
       "      <td>226338</td>\n",
       "      <td>56</td>\n",
       "      <td>2021-04-14 01:41:14.665000+00:00</td>\n",
       "      <td>split</td>\n",
       "      <td>[150491.5, 259895.0, 22283.0]</td>\n",
       "      <td>4</td>\n",
       "      <td>[864691136296957211]</td>\n",
       "      <td>[]</td>\n",
       "    </tr>\n",
       "    <tr>\n",
       "      <th>3</th>\n",
       "      <td>864691136487559186</td>\n",
       "      <td>226344</td>\n",
       "      <td>56</td>\n",
       "      <td>2021-04-14 01:46:18.347000+00:00</td>\n",
       "      <td>split</td>\n",
       "      <td>[156857.5, 261701.0, 22775.5]</td>\n",
       "      <td>4</td>\n",
       "      <td>[864691135571396645, 864691135660624624]</td>\n",
       "      <td>[864691135571396645]</td>\n",
       "    </tr>\n",
       "    <tr>\n",
       "      <th>4</th>\n",
       "      <td>864691136487559186</td>\n",
       "      <td>279988</td>\n",
       "      <td>56</td>\n",
       "      <td>2021-10-06 22:20:10.203000+00:00</td>\n",
       "      <td>merge</td>\n",
       "      <td>[170666.0, 200516.0, 20531.5]</td>\n",
       "      <td>2</td>\n",
       "      <td>[864691136118737944]</td>\n",
       "      <td>[]</td>\n",
       "    </tr>\n",
       "  </tbody>\n",
       "</table>\n",
       "</div>"
      ],
      "text/plain": [
       "              root_id   op_id  user                        timestamp   type  \\\n",
       "0  864691136487559186   94559   161 2020-08-03 14:43:34.305000+00:00  merge   \n",
       "1  864691136487559186  226309    56 2021-04-14 01:32:20.568000+00:00  split   \n",
       "2  864691136487559186  226338    56 2021-04-14 01:41:14.665000+00:00  split   \n",
       "3  864691136487559186  226344    56 2021-04-14 01:46:18.347000+00:00  split   \n",
       "4  864691136487559186  279988    56 2021-10-06 22:20:10.203000+00:00  merge   \n",
       "\n",
       "                         location  n_points  \\\n",
       "0   [178936.0, 259568.0, 23569.5]         2   \n",
       "1  [159415.0, 261368.0, 22931.75]         4   \n",
       "2   [150491.5, 259895.0, 22283.0]         4   \n",
       "3   [156857.5, 261701.0, 22775.5]         4   \n",
       "4   [170666.0, 200516.0, 20531.5]         2   \n",
       "\n",
       "                                      roots        disjoint_roots  \n",
       "0                      [864691135494087312]                    []  \n",
       "1                      [864691136011127459]                    []  \n",
       "2                      [864691136296957211]                    []  \n",
       "3  [864691135571396645, 864691135660624624]  [864691135571396645]  \n",
       "4                      [864691136118737944]                    []  "
      ]
     },
     "execution_count": 18,
     "metadata": {},
     "output_type": "execute_result"
    }
   ],
   "source": [
    "from editglancer import get_detailed_operations\n",
    "\n",
    "operations = get_detailed_operations(root_id, client)\n",
    "operations.head()"
   ]
  },
  {
   "cell_type": "code",
   "execution_count": null,
   "metadata": {},
   "outputs": [],
   "source": [
    "from editglancer import generate_statebuilder\n",
    "\n",
    "statebuilder = generate_statebuilder(client)\n",
    "statebuilder"
   ]
  }
 ],
 "metadata": {
  "kernelspec": {
   "display_name": ".venv",
   "language": "python",
   "name": "python3"
  },
  "language_info": {
   "codemirror_mode": {
    "name": "ipython",
    "version": 3
   },
   "file_extension": ".py",
   "mimetype": "text/x-python",
   "name": "python",
   "nbconvert_exporter": "python",
   "pygments_lexer": "ipython3",
   "version": "3.11.6"
  }
 },
 "nbformat": 4,
 "nbformat_minor": 2
}
