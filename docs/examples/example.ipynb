{
 "cells": [
  {
   "cell_type": "markdown",
   "metadata": {},
   "source": [
    "# Example\n",
    "\n",
    "Editglancer is a small Python package for generating neuroglancer links which depict\n",
    "the edits to a neuron in a PyChunkedGraph. This notebook demonstrates how to use it.\n"
   ]
  },
  {
   "cell_type": "markdown",
   "metadata": {},
   "source": [
    "Start a CAVEclient for your datastack, here \"minnie65_phase3_v1\". Note that you may\n",
    "need to change the datastack to one you have access too. For more information, first\n",
    "visit the CAVEclient tutorials.\n"
   ]
  },
  {
   "cell_type": "code",
   "execution_count": 1,
   "metadata": {},
   "outputs": [],
   "source": [
    "from caveclient import CAVEclient\n",
    "\n",
    "client = CAVEclient(\n",
    "    \"minnie65_phase3_v1\",\n",
    "    pool_maxsize=20,\n",
    "    pool_block=True,\n",
    ")"
   ]
  },
  {
   "cell_type": "markdown",
   "metadata": {},
   "source": [
    "Select a root ID (a neuron in this case) to visualize.\n"
   ]
  },
  {
   "cell_type": "code",
   "execution_count": 2,
   "metadata": {},
   "outputs": [],
   "source": [
    "root_id = 864691136487559186"
   ]
  },
  {
   "cell_type": "markdown",
   "metadata": {},
   "source": [
    "Generate a neuroglancer link to visualize the neuron and its edits.\n"
   ]
  },
  {
   "cell_type": "code",
   "execution_count": 3,
   "metadata": {},
   "outputs": [
    {
     "data": {
      "text/html": [
       "<a href=\"https://neuroglancer.neuvue.io/#!%7B%22jsonStateServer%22:%22https://global.daf-apis.com/nglstate/api/v1/post%22,%22navigation%22:%7B%22pose%22:%7B%22position%22:%7B%22voxelSize%22:%5B4.0,4.0,40.0%5D,%22voxelCoordinates%22:%5B159415.0,261368.0,22931.75%5D%7D%7D,%22zoomFactor%22:2.0%7D,%22showSlices%22:false,%22layout%22:%22xy-3d%22,%22perspectiveZoom%22:2000.0,%22layers%22:%5B%7B%22type%22:%22image%22,%22source%22:%22precomputed://https://bossdb-open-data.s3.amazonaws.com/iarpa_microns/minnie/minnie65/em%22,%22name%22:%22img%22%7D,%7B%22type%22:%22segmentation_with_graph%22,%22source%22:%22graphene://https://minnie.microns-daf.com/segmentation/table/minnie3_v1%22,%22segments%22:%5B%22864691136487559186%22%5D,%22segmentColors%22:%7B%7D,%22selectedAlpha%22:0.3,%22objectAlpha%22:1.0,%22notSelectedAlpha%22:0.0,%22name%22:%22seg%22%7D,%7B%22type%22:%22annotation%22,%22filterBySegmentation%22:false,%22bracketShortcutsShowSegmentation%22:true,%22annotationSelectionShowsSegmentation%22:true,%22annotationColor%22:%22#2796a8%22,%22annotations%22:%5B%7B%22tagIds%22:%5B%5D,%22type%22:%22point%22,%22point%22:%5B178936.0,259568.0,23569.0%5D,%22id%22:%22cb71cec96958bacc05101188fad9067ce1f03d2e%22,%22description%22:%2294559%22,%22segments%22:%5B%5D%7D,%7B%22tagIds%22:%5B%5D,%22type%22:%22point%22,%22point%22:%5B170666.0,200516.0,20531.0%5D,%22id%22:%220dabffaeb8d17844e9e6506ef0e13b487e1e8cf4%22,%22description%22:%22279988%22,%22segments%22:%5B%5D%7D,%7B%22tagIds%22:%5B%5D,%22type%22:%22point%22,%22point%22:%5B169881.0,183345.0,20591.0%5D,%22id%22:%22d54766ce65c5269694b27fa844db0948cbae8e3f%22,%22description%22:%22279989%22,%22segments%22:%5B%5D%7D,%7B%22tagIds%22:%5B%5D,%22type%22:%22point%22,%22point%22:%5B169395.0,183461.0,20599.0%5D,%22id%22:%2241843cf09e516fc8d8347427da64385b9e5b2323%22,%22description%22:%22279990%22,%22segments%22:%5B%5D%7D,%7B%22tagIds%22:%5B%5D,%22type%22:%22point%22,%22point%22:%5B167487.0,196431.0,20569.0%5D,%22id%22:%22efc7f6de3d3776f3458d9a83c955e298174dd3d5%22,%22description%22:%22279991%22,%22segments%22:%5B%5D%7D,%7B%22tagIds%22:%5B%5D,%22type%22:%22point%22,%22point%22:%5B180660.0,262688.0,24054.0%5D,%22id%22:%22e343096ed749b1e7fc5701a99559d885792c7c67%22,%22description%22:%22282339%22,%22segments%22:%5B%5D%7D%5D,%22name%22:%22merge%22%7D,%7B%22type%22:%22annotation%22,%22linkedSegmentationLayer%22:%22seg%22,%22filterBySegmentation%22:false,%22bracketShortcutsShowSegmentation%22:true,%22annotationSelectionShowsSegmentation%22:true,%22annotationColor%22:%22#cc4b35%22,%22annotations%22:%5B%7B%22tagIds%22:%5B%5D,%22type%22:%22point%22,%22point%22:%5B159415.0,261368.0,22931.0%5D,%22id%22:%22982f0694498fd3fe34066b15af7b5bbdc6c66a6f%22,%22description%22:%22226309%22,%22segments%22:%5B%5D%7D,%7B%22tagIds%22:%5B%5D,%22type%22:%22point%22,%22point%22:%5B150491.0,259895.0,22283.0%5D,%22id%22:%22ea1cd522965dd35668db18483f0585496a4e2a7f%22,%22description%22:%22226338%22,%22segments%22:%5B%5D%7D,%7B%22tagIds%22:%5B%5D,%22type%22:%22point%22,%22point%22:%5B156857.0,261701.0,22775.0%5D,%22id%22:%22979c5df548898b074b3ae9eb48dff3d253321e25%22,%22description%22:%22226344%22,%22segments%22:%5B%22864691135571396645%22%5D%7D,%7B%22tagIds%22:%5B%5D,%22type%22:%22point%22,%22point%22:%5B168379.0,240086.0,25656.0%5D,%22id%22:%224d4a912150d7c6abf43b5ad51f54f51e15b2e54f%22,%22description%22:%22279992%22,%22segments%22:%5B%22864691135323192476%22%5D%7D,%7B%22tagIds%22:%5B%5D,%22type%22:%22point%22,%22point%22:%5B157523.0,262364.0,24346.0%5D,%22id%22:%226953a2b38ced49689af93ae6504087871529cc16%22,%22description%22:%22279995%22,%22segments%22:%5B%22864691135490428775%22%5D%7D,%7B%22tagIds%22:%5B%5D,%22type%22:%22point%22,%22point%22:%5B176912.0,261335.0,24689.0%5D,%22id%22:%220629dd6d32d069276c3df939984135e09360d173%22,%22description%22:%22478077%22,%22segments%22:%5B%22864691135754252493%22%5D%7D,%7B%22tagIds%22:%5B%5D,%22type%22:%22point%22,%22point%22:%5B177333.0,264662.0,24909.0%5D,%22id%22:%22e95492e1abcd0395c208dc2d9575267f9c2a849b%22,%22description%22:%22478128%22,%22segments%22:%5B%22864691135856340782%22%5D%7D,%7B%22tagIds%22:%5B%5D,%22type%22:%22point%22,%22point%22:%5B177648.0,266374.0,24954.0%5D,%22id%22:%2215478826f1a7ee733454da07828d7038e1f7352d%22,%22description%22:%22478164%22,%22segments%22:%5B%22864691135724863403%22%5D%7D,%7B%22tagIds%22:%5B%5D,%22type%22:%22point%22,%22point%22:%5B178627.0,270108.0,24965.0%5D,%22id%22:%226bcf9cd20cb6165426f4e860425bdf285ff38214%22,%22description%22:%22478214%22,%22segments%22:%5B%22864691135946160932%22%5D%7D,%7B%22tagIds%22:%5B%5D,%22type%22:%22point%22,%22point%22:%5B178715.0,270588.0,24944.0%5D,%22id%22:%22286d97d95890568f4cb7acc8b492cf452218125f%22,%22description%22:%22478232%22,%22segments%22:%5B%22864691136106030809%22%5D%7D,%7B%22tagIds%22:%5B%5D,%22type%22:%22point%22,%22point%22:%5B172818.0,250891.0,24428.0%5D,%22id%22:%22845ea8d9a549e7a92468af8cf3dddea4c5a3d7af%22,%22description%22:%22478286%22,%22segments%22:%5B%22864691135940154534%22%5D%7D,%7B%22tagIds%22:%5B%5D,%22type%22:%22point%22,%22point%22:%5B171097.0,245389.0,25414.0%5D,%22id%22:%228701cc0510758cbb0ecba93768c20f96c3b7317f%22,%22description%22:%22478312%22,%22segments%22:%5B%22864691135387076737%22%5D%7D,%7B%22tagIds%22:%5B%5D,%22type%22:%22point%22,%22point%22:%5B168658.0,240242.0,25655.0%5D,%22id%22:%22b388342b1ee785a805424bd5499b7017f8944daa%22,%22description%22:%22478401%22,%22segments%22:%5B%22864691135693295807%22%5D%7D,%7B%22tagIds%22:%5B%5D,%22type%22:%22point%22,%22point%22:%5B167150.0,238432.0,26095.0%5D,%22id%22:%22246c0fe5375827628dcf675e866911c59bb3bdb1%22,%22description%22:%22478431%22,%22segments%22:%5B%22864691136106031833%22%5D%7D,%7B%22tagIds%22:%5B%5D,%22type%22:%22point%22,%22point%22:%5B166559.0,237784.0,26204.0%5D,%22id%22:%226845ee9005004faeb387584f24439a505154c319%22,%22description%22:%22478515%22,%22segments%22:%5B%22864691136135021963%22%5D%7D,%7B%22tagIds%22:%5B%5D,%22type%22:%22point%22,%22point%22:%5B189754.0,260575.0,24066.0%5D,%22id%22:%2214e3851bbad654d2b76451d1533f0cb82618900d%22,%22description%22:%22478567%22,%22segments%22:%5B%22864691135730811065%22%5D%7D,%7B%22tagIds%22:%5B%5D,%22type%22:%22point%22,%22point%22:%5B189717.0,260541.0,24142.0%5D,%22id%22:%223af5b53e17eada3a238bc9e7369ec0ccd7d82ba0%22,%22description%22:%22478585%22,%22segments%22:%5B%22864691136135022219%22%5D%7D,%7B%22tagIds%22:%5B%5D,%22type%22:%22point%22,%22point%22:%5B191198.0,260665.0,24290.0%5D,%22id%22:%22eb0268ecb31852f7ddc3a2825560324aeb593921%22,%22description%22:%22478628%22,%22segments%22:%5B%22864691135730811577%22%5D%7D,%7B%22tagIds%22:%5B%5D,%22type%22:%22point%22,%22point%22:%5B198527.0,261565.0,24558.0%5D,%22id%22:%22bbb7ea348db764bdeca157d272d1636a89a31120%22,%22description%22:%22478682%22,%22segments%22:%5B%22864691135884481392%22%5D%7D,%7B%22tagIds%22:%5B%5D,%22type%22:%22point%22,%22point%22:%5B209743.0,258707.0,25671.0%5D,%22id%22:%22fd7ce315c35278bc2df29207f2277c9db656f164%22,%22description%22:%22478708%22,%22segments%22:%5B%22864691135454625130%22%5D%7D,%7B%22tagIds%22:%5B%5D,%22type%22:%22point%22,%22point%22:%5B211390.0,258447.0,25792.0%5D,%22id%22:%2211e8f77b4f94e83afdc6a53035fefe0dc97d8224%22,%22description%22:%22478730%22,%22segments%22:%5B%22864691135800283234%22%5D%7D,%7B%22tagIds%22:%5B%5D,%22type%22:%22point%22,%22point%22:%5B165484.0,261331.0,23271.0%5D,%22id%22:%22c1806313096d420969155dbd8918cea721715eb6%22,%22description%22:%22478779%22,%22segments%22:%5B%22864691136266988276%22%5D%7D,%7B%22tagIds%22:%5B%5D,%22type%22:%22point%22,%22point%22:%5B161383.0,261321.0,24100.0%5D,%22id%22:%2276350c457035c0aea11421422e1ad2a6fe346f78%22,%22description%22:%22478805%22,%22segments%22:%5B%22864691135724866475%22%5D%7D,%7B%22tagIds%22:%5B%5D,%22type%22:%22point%22,%22point%22:%5B144977.0,273280.0,24571.0%5D,%22id%22:%22ec19e47bf105026df818a14a9745abd9bb0f28de%22,%22description%22:%22478838%22,%22segments%22:%5B%5D%7D,%7B%22tagIds%22:%5B%5D,%22type%22:%22point%22,%22point%22:%5B145100.0,273267.0,24577.0%5D,%22id%22:%228ebaf6729424bcb7454c3939a436654aee7e9bbb%22,%22description%22:%22478868%22,%22segments%22:%5B%22864691135975014767%22%5D%7D,%7B%22tagIds%22:%5B%5D,%22type%22:%22point%22,%22point%22:%5B145167.0,273435.0,24544.0%5D,%22id%22:%22e89659167a2776d87fd25ab1efcb9902d76812bb%22,%22description%22:%22478930%22,%22segments%22:%5B%22864691136741023836%22%5D%7D,%7B%22tagIds%22:%5B%5D,%22type%22:%22point%22,%22point%22:%5B155960.0,255718.0,23995.0%5D,%22id%22:%22789818ec7addb439af5e909c758952a7711ef0e6%22,%22description%22:%22478971%22,%22segments%22:%5B%22864691135526534491%22%5D%7D,%7B%22tagIds%22:%5B%5D,%22type%22:%22point%22,%22point%22:%5B155599.0,252867.0,24019.0%5D,%22id%22:%22ae408b941513acfd06e69479cf9bd71efa480a66%22,%22description%22:%22479005%22,%22segments%22:%5B%22864691135614637259%22%5D%7D,%7B%22tagIds%22:%5B%5D,%22type%22:%22point%22,%22point%22:%5B160048.0,238709.0,21468.0%5D,%22id%22:%222449c8eef866dc05254b726ac4dc91bd5f40abfb%22,%22description%22:%22479078%22,%22segments%22:%5B%22864691135889062025%22%5D%7D,%7B%22tagIds%22:%5B%5D,%22type%22:%22point%22,%22point%22:%5B173333.0,241673.0,22067.0%5D,%22id%22:%229aceb2d363ebe9bd35cd5cc42ec08d1fde9b87b5%22,%22description%22:%22479106%22,%22segments%22:%5B%5D%7D,%7B%22tagIds%22:%5B%5D,%22type%22:%22point%22,%22point%22:%5B173326.0,241630.0,22069.0%5D,%22id%22:%2260f8a9d0142719f5bdead57791c4a010e31be482%22,%22description%22:%22479126%22,%22segments%22:%5B%22864691135724868267%22%5D%7D,%7B%22tagIds%22:%5B%5D,%22type%22:%22point%22,%22point%22:%5B171380.0,245362.0,21719.0%5D,%22id%22:%223ddd32f39aadab34955bf2dfd57ceaf1c1eff673%22,%22description%22:%22479150%22,%22segments%22:%5B%22864691135463220030%22%5D%7D,%7B%22tagIds%22:%5B%5D,%22type%22:%22point%22,%22point%22:%5B170235.0,249491.0,21453.0%5D,%22id%22:%222d7ab69b8ca6a795e77d65135097b8eb231d0858%22,%22description%22:%22479180%22,%22segments%22:%5B%22864691135737365124%22%5D%7D,%7B%22tagIds%22:%5B%5D,%22type%22:%22point%22,%22point%22:%5B172575.0,212595.0,22277.0%5D,%22id%22:%220954bb44f5ebf1c85659e322cc9428233e0a3793%22,%22description%22:%22479231%22,%22segments%22:%5B%22864691135785986500%22%5D%7D,%7B%22tagIds%22:%5B%5D,%22type%22:%22point%22,%22point%22:%5B172056.0,211970.0,22074.0%5D,%22id%22:%2207931262ee4a63c61fa420c37600f446b0652078%22,%22description%22:%22479336%22,%22segments%22:%5B%22864691135526535771%22%5D%7D,%7B%22tagIds%22:%5B%5D,%22type%22:%22point%22,%22point%22:%5B170415.0,209408.0,21146.0%5D,%22id%22:%22ffb299061eb28f8da84b04b007a01a66d8fd3bf9%22,%22description%22:%22479383%22,%22segments%22:%5B%22864691135889063561%22%5D%7D,%7B%22tagIds%22:%5B%5D,%22type%22:%22point%22,%22point%22:%5B182889.0,198160.0,19189.0%5D,%22id%22:%224fc384d251311a89b84178eefd969cbdd7e9eb5d%22,%22description%22:%22479392%22,%22segments%22:%5B%22864691135162919469%22%5D%7D,%7B%22tagIds%22:%5B%5D,%22type%22:%22point%22,%22point%22:%5B177447.0,257210.0,23026.0%5D,%22id%22:%22b53b6ea088b69e9a398fb9a10d765cfd93b51ff5%22,%22description%22:%22479573%22,%22segments%22:%5B%22864691136419132567%22%5D%7D,%7B%22tagIds%22:%5B%5D,%22type%22:%22point%22,%22point%22:%5B181086.0,261240.0,22244.0%5D,%22id%22:%22a4256ec6fc7936caf7bda242b5ef0e99aeeb39b1%22,%22description%22:%22479588%22,%22segments%22:%5B%22864691136100387957%22%5D%7D,%7B%22tagIds%22:%5B%5D,%22type%22:%22point%22,%22point%22:%5B177931.0,257980.0,22478.0%5D,%22id%22:%22b167ee6dd0766002e69c83c27f91910437dedeff%22,%22description%22:%22479595%22,%22segments%22:%5B%22864691136100388213%22%5D%7D,%7B%22tagIds%22:%5B%5D,%22type%22:%22point%22,%22point%22:%5B177782.0,258266.0,22318.0%5D,%22id%22:%225a2c97e41cf97c710169b4e8e7e5a80040643fb7%22,%22description%22:%22479602%22,%22segments%22:%5B%22864691135889064841%22%5D%7D,%7B%22tagIds%22:%5B%5D,%22type%22:%22point%22,%22point%22:%5B182962.0,260857.0,22093.0%5D,%22id%22:%2207558878830fd2870665c25099edab0c058535ab%22,%22description%22:%22479629%22,%22segments%22:%5B%22864691135256735151%22%5D%7D,%7B%22tagIds%22:%5B%5D,%22type%22:%22point%22,%22point%22:%5B182233.0,255425.0,23024.0%5D,%22id%22:%2203505b68c068a20f918ba36b712efa4679760376%22,%22description%22:%22479642%22,%22segments%22:%5B%22864691136100388469%22%5D%7D,%7B%22tagIds%22:%5B%5D,%22type%22:%22point%22,%22point%22:%5B181046.0,244518.0,22953.0%5D,%22id%22:%22a0b79153976c16a43b3be031a9a4982e3edfda20%22,%22description%22:%22479652%22,%22segments%22:%5B%22864691135082319607%22%5D%7D,%7B%22tagIds%22:%5B%5D,%22type%22:%22point%22,%22point%22:%5B180766.0,231542.0,22540.0%5D,%22id%22:%229ea13e42b35e3af19abaa96ac29eec4484d557f3%22,%22description%22:%22479732%22,%22segments%22:%5B%22864691136005385674%22%5D%7D%5D,%22name%22:%22split%22%7D%5D,%22selectedLayer%22:%7B%22layer%22:%22split%22%7D%7D\" target=\"_blank\">Neuroglancer Link</a>"
      ],
      "text/plain": [
       "<IPython.core.display.HTML object>"
      ]
     },
     "execution_count": 3,
     "metadata": {},
     "output_type": "execute_result"
    }
   ],
   "source": [
    "from editglancer import generate_link_for_root\n",
    "\n",
    "generate_link_for_root(root_id, client)"
   ]
  },
  {
   "cell_type": "markdown",
   "metadata": {},
   "source": [
    "If everything worked the link should take you to a page that looks like this, with\n",
    "merges shown in blue and splits shown in red.\n",
    "\n",
    "![Example neuroglancer link](../images/example-link.png)\n",
    "\n",
    "If you right click on the \"merge\" or \"split\" layer in the neuroglancer window, you can\n",
    "select individual edits. For splits, the segments which were separated from the root\n",
    "will be shown.\n",
    "\n",
    "![Example neuroglancer link after click](../images/example-link-click.png)"
   ]
  },
  {
   "cell_type": "markdown",
   "metadata": {},
   "source": [
    "!!! Advanced\n",
    "    If you are familiar with NGLUI, you can also extract the edits and pass them to a statebuilder yourself. For more on NGLUI, see the [GitHub](https://github.com/seung-lab/NeuroglancerAnnotationUI) page.\n"
   ]
  },
  {
   "cell_type": "code",
   "execution_count": 4,
   "metadata": {},
   "outputs": [
    {
     "data": {
      "text/html": [
       "<div>\n",
       "<style scoped>\n",
       "    .dataframe tbody tr th:only-of-type {\n",
       "        vertical-align: middle;\n",
       "    }\n",
       "\n",
       "    .dataframe tbody tr th {\n",
       "        vertical-align: top;\n",
       "    }\n",
       "\n",
       "    .dataframe thead th {\n",
       "        text-align: right;\n",
       "    }\n",
       "</style>\n",
       "<table border=\"1\" class=\"dataframe\">\n",
       "  <thead>\n",
       "    <tr style=\"text-align: right;\">\n",
       "      <th></th>\n",
       "      <th>root_id</th>\n",
       "      <th>op_id</th>\n",
       "      <th>user</th>\n",
       "      <th>timestamp</th>\n",
       "      <th>type</th>\n",
       "      <th>location</th>\n",
       "      <th>n_points</th>\n",
       "      <th>roots</th>\n",
       "      <th>disjoint_roots</th>\n",
       "    </tr>\n",
       "  </thead>\n",
       "  <tbody>\n",
       "    <tr>\n",
       "      <th>0</th>\n",
       "      <td>864691136487559186</td>\n",
       "      <td>94559</td>\n",
       "      <td>161</td>\n",
       "      <td>2020-08-03 14:43:34.305000+00:00</td>\n",
       "      <td>merge</td>\n",
       "      <td>[178936.0, 259568.0, 23569.5]</td>\n",
       "      <td>2</td>\n",
       "      <td>[864691135494087312]</td>\n",
       "      <td>[]</td>\n",
       "    </tr>\n",
       "    <tr>\n",
       "      <th>1</th>\n",
       "      <td>864691136487559186</td>\n",
       "      <td>226309</td>\n",
       "      <td>56</td>\n",
       "      <td>2021-04-14 01:32:20.568000+00:00</td>\n",
       "      <td>split</td>\n",
       "      <td>[159415.0, 261368.0, 22931.75]</td>\n",
       "      <td>4</td>\n",
       "      <td>[864691136011127459]</td>\n",
       "      <td>[]</td>\n",
       "    </tr>\n",
       "    <tr>\n",
       "      <th>2</th>\n",
       "      <td>864691136487559186</td>\n",
       "      <td>226338</td>\n",
       "      <td>56</td>\n",
       "      <td>2021-04-14 01:41:14.665000+00:00</td>\n",
       "      <td>split</td>\n",
       "      <td>[150491.5, 259895.0, 22283.0]</td>\n",
       "      <td>4</td>\n",
       "      <td>[864691136296957211]</td>\n",
       "      <td>[]</td>\n",
       "    </tr>\n",
       "    <tr>\n",
       "      <th>3</th>\n",
       "      <td>864691136487559186</td>\n",
       "      <td>226344</td>\n",
       "      <td>56</td>\n",
       "      <td>2021-04-14 01:46:18.347000+00:00</td>\n",
       "      <td>split</td>\n",
       "      <td>[156857.5, 261701.0, 22775.5]</td>\n",
       "      <td>4</td>\n",
       "      <td>[864691135571396645, 864691135660624624]</td>\n",
       "      <td>[864691135571396645]</td>\n",
       "    </tr>\n",
       "    <tr>\n",
       "      <th>4</th>\n",
       "      <td>864691136487559186</td>\n",
       "      <td>279988</td>\n",
       "      <td>56</td>\n",
       "      <td>2021-10-06 22:20:10.203000+00:00</td>\n",
       "      <td>merge</td>\n",
       "      <td>[170666.0, 200516.0, 20531.5]</td>\n",
       "      <td>2</td>\n",
       "      <td>[864691136118737944]</td>\n",
       "      <td>[]</td>\n",
       "    </tr>\n",
       "  </tbody>\n",
       "</table>\n",
       "</div>"
      ],
      "text/plain": [
       "              root_id   op_id  user                        timestamp   type  \\\n",
       "0  864691136487559186   94559   161 2020-08-03 14:43:34.305000+00:00  merge   \n",
       "1  864691136487559186  226309    56 2021-04-14 01:32:20.568000+00:00  split   \n",
       "2  864691136487559186  226338    56 2021-04-14 01:41:14.665000+00:00  split   \n",
       "3  864691136487559186  226344    56 2021-04-14 01:46:18.347000+00:00  split   \n",
       "4  864691136487559186  279988    56 2021-10-06 22:20:10.203000+00:00  merge   \n",
       "\n",
       "                         location  n_points  \\\n",
       "0   [178936.0, 259568.0, 23569.5]         2   \n",
       "1  [159415.0, 261368.0, 22931.75]         4   \n",
       "2   [150491.5, 259895.0, 22283.0]         4   \n",
       "3   [156857.5, 261701.0, 22775.5]         4   \n",
       "4   [170666.0, 200516.0, 20531.5]         2   \n",
       "\n",
       "                                      roots        disjoint_roots  \n",
       "0                      [864691135494087312]                    []  \n",
       "1                      [864691136011127459]                    []  \n",
       "2                      [864691136296957211]                    []  \n",
       "3  [864691135571396645, 864691135660624624]  [864691135571396645]  \n",
       "4                      [864691136118737944]                    []  "
      ]
     },
     "execution_count": 4,
     "metadata": {},
     "output_type": "execute_result"
    }
   ],
   "source": [
    "from editglancer import get_detailed_operations\n",
    "\n",
    "operations = get_detailed_operations(root_id, client)\n",
    "operations.head()"
   ]
  },
  {
   "cell_type": "code",
   "execution_count": 5,
   "metadata": {},
   "outputs": [
    {
     "data": {
      "text/plain": [
       "<nglui.statebuilder.statebuilder.StateBuilder at 0x17b723fd0>"
      ]
     },
     "execution_count": 5,
     "metadata": {},
     "output_type": "execute_result"
    }
   ],
   "source": [
    "from editglancer import generate_statebuilder\n",
    "\n",
    "statebuilder = generate_statebuilder(client)\n",
    "statebuilder"
   ]
  },
  {
   "cell_type": "code",
   "execution_count": 6,
   "metadata": {},
   "outputs": [
    {
     "data": {
      "text/html": [
       "<a href=\"https://neuroglancer.neuvue.io/#!%7B%22jsonStateServer%22:%22https://global.daf-apis.com/nglstate/api/v1/post%22,%22navigation%22:%7B%22pose%22:%7B%22position%22:%7B%22voxelSize%22:%5B4.0,4.0,40.0%5D,%22voxelCoordinates%22:%5B159415.0,261368.0,22931.75%5D%7D%7D,%22zoomFactor%22:2.0%7D,%22showSlices%22:false,%22layout%22:%22xy-3d%22,%22perspectiveZoom%22:2000.0,%22layers%22:%5B%7B%22type%22:%22image%22,%22source%22:%22precomputed://https://bossdb-open-data.s3.amazonaws.com/iarpa_microns/minnie/minnie65/em%22,%22name%22:%22img%22%7D,%7B%22type%22:%22segmentation_with_graph%22,%22source%22:%22graphene://https://minnie.microns-daf.com/segmentation/table/minnie3_v1%22,%22segments%22:%5B%22864691136487559186%22%5D,%22segmentColors%22:%7B%7D,%22selectedAlpha%22:0.3,%22objectAlpha%22:1.0,%22notSelectedAlpha%22:0.0,%22name%22:%22seg%22%7D,%7B%22type%22:%22annotation%22,%22filterBySegmentation%22:false,%22bracketShortcutsShowSegmentation%22:true,%22annotationSelectionShowsSegmentation%22:true,%22annotationColor%22:%22#2796a8%22,%22annotations%22:%5B%7B%22tagIds%22:%5B%5D,%22type%22:%22point%22,%22point%22:%5B178936.0,259568.0,23569.0%5D,%22id%22:%2209fb7f9d7b05ee8d9e9c9597010cc716b58d7f89%22,%22description%22:%2294559%22,%22segments%22:%5B%5D%7D,%7B%22tagIds%22:%5B%5D,%22type%22:%22point%22,%22point%22:%5B170666.0,200516.0,20531.0%5D,%22id%22:%22895b1b24a471cbacefcb0e5c0b77b45ad2783a77%22,%22description%22:%22279988%22,%22segments%22:%5B%5D%7D,%7B%22tagIds%22:%5B%5D,%22type%22:%22point%22,%22point%22:%5B169881.0,183345.0,20591.0%5D,%22id%22:%228d8f539ea7bba68c16d7753ca05c5f46d208833f%22,%22description%22:%22279989%22,%22segments%22:%5B%5D%7D,%7B%22tagIds%22:%5B%5D,%22type%22:%22point%22,%22point%22:%5B169395.0,183461.0,20599.0%5D,%22id%22:%22da56a80ea8a63129551cc9697bfa3fdd3ce0755f%22,%22description%22:%22279990%22,%22segments%22:%5B%5D%7D,%7B%22tagIds%22:%5B%5D,%22type%22:%22point%22,%22point%22:%5B167487.0,196431.0,20569.0%5D,%22id%22:%22928453f768f4a53fb880b2cb9049cbb3827d1d9c%22,%22description%22:%22279991%22,%22segments%22:%5B%5D%7D,%7B%22tagIds%22:%5B%5D,%22type%22:%22point%22,%22point%22:%5B180660.0,262688.0,24054.0%5D,%22id%22:%220edd3b8ff06f444403c0a39cceaa9cfc06dc3277%22,%22description%22:%22282339%22,%22segments%22:%5B%5D%7D%5D,%22name%22:%22merge%22%7D,%7B%22type%22:%22annotation%22,%22linkedSegmentationLayer%22:%22seg%22,%22filterBySegmentation%22:false,%22bracketShortcutsShowSegmentation%22:true,%22annotationSelectionShowsSegmentation%22:true,%22annotationColor%22:%22#cc4b35%22,%22annotations%22:%5B%7B%22tagIds%22:%5B%5D,%22type%22:%22point%22,%22point%22:%5B159415.0,261368.0,22931.0%5D,%22id%22:%22c657aafc89aa4f5a2e4c84b4dbd6ebc3e8ebeed6%22,%22description%22:%22226309%22,%22segments%22:%5B%5D%7D,%7B%22tagIds%22:%5B%5D,%22type%22:%22point%22,%22point%22:%5B150491.0,259895.0,22283.0%5D,%22id%22:%2259afa102818377a781e99b7254f0640db0201a03%22,%22description%22:%22226338%22,%22segments%22:%5B%5D%7D,%7B%22tagIds%22:%5B%5D,%22type%22:%22point%22,%22point%22:%5B156857.0,261701.0,22775.0%5D,%22id%22:%225c0509e5eb78963788f4cef8bc69af5016506032%22,%22description%22:%22226344%22,%22segments%22:%5B%22864691135571396645%22%5D%7D,%7B%22tagIds%22:%5B%5D,%22type%22:%22point%22,%22point%22:%5B168379.0,240086.0,25656.0%5D,%22id%22:%229f14e71b4e6b329b0db0206a9ab94281ee91ba0f%22,%22description%22:%22279992%22,%22segments%22:%5B%22864691135323192476%22%5D%7D,%7B%22tagIds%22:%5B%5D,%22type%22:%22point%22,%22point%22:%5B157523.0,262364.0,24346.0%5D,%22id%22:%226fd8e745e7f7528c728c08d048a53d996a33c06b%22,%22description%22:%22279995%22,%22segments%22:%5B%22864691135490428775%22%5D%7D,%7B%22tagIds%22:%5B%5D,%22type%22:%22point%22,%22point%22:%5B176912.0,261335.0,24689.0%5D,%22id%22:%22bfaabffc4bae14255c99de6fc6621087f9b56557%22,%22description%22:%22478077%22,%22segments%22:%5B%22864691135754252493%22%5D%7D,%7B%22tagIds%22:%5B%5D,%22type%22:%22point%22,%22point%22:%5B177333.0,264662.0,24909.0%5D,%22id%22:%2278575e1186726e2cba8493f227b1572d396601cb%22,%22description%22:%22478128%22,%22segments%22:%5B%22864691135856340782%22%5D%7D,%7B%22tagIds%22:%5B%5D,%22type%22:%22point%22,%22point%22:%5B177648.0,266374.0,24954.0%5D,%22id%22:%2207f5fee4a3ddd48ac3b157e000a2ed0632e59c50%22,%22description%22:%22478164%22,%22segments%22:%5B%22864691135724863403%22%5D%7D,%7B%22tagIds%22:%5B%5D,%22type%22:%22point%22,%22point%22:%5B178627.0,270108.0,24965.0%5D,%22id%22:%22d644d4811120598264a5e4e85dfc6b73e4990c73%22,%22description%22:%22478214%22,%22segments%22:%5B%22864691135946160932%22%5D%7D,%7B%22tagIds%22:%5B%5D,%22type%22:%22point%22,%22point%22:%5B178715.0,270588.0,24944.0%5D,%22id%22:%2291e700313d77bea4078739bf7bf173da0b5135af%22,%22description%22:%22478232%22,%22segments%22:%5B%22864691136106030809%22%5D%7D,%7B%22tagIds%22:%5B%5D,%22type%22:%22point%22,%22point%22:%5B172818.0,250891.0,24428.0%5D,%22id%22:%22432eef89a1d1b6e5e937996ebd814880ed4678cc%22,%22description%22:%22478286%22,%22segments%22:%5B%22864691135940154534%22%5D%7D,%7B%22tagIds%22:%5B%5D,%22type%22:%22point%22,%22point%22:%5B171097.0,245389.0,25414.0%5D,%22id%22:%2233ae640eddaf3ce913bda92ea7da27ee17d394bf%22,%22description%22:%22478312%22,%22segments%22:%5B%22864691135387076737%22%5D%7D,%7B%22tagIds%22:%5B%5D,%22type%22:%22point%22,%22point%22:%5B168658.0,240242.0,25655.0%5D,%22id%22:%2211be8a8174624eaf615092d4b0979b8a212c3ffd%22,%22description%22:%22478401%22,%22segments%22:%5B%22864691135693295807%22%5D%7D,%7B%22tagIds%22:%5B%5D,%22type%22:%22point%22,%22point%22:%5B167150.0,238432.0,26095.0%5D,%22id%22:%226076f44dfc8eec5bfec52738539eda3a7e09bc06%22,%22description%22:%22478431%22,%22segments%22:%5B%22864691136106031833%22%5D%7D,%7B%22tagIds%22:%5B%5D,%22type%22:%22point%22,%22point%22:%5B166559.0,237784.0,26204.0%5D,%22id%22:%222fad3a108ae9bf08d158995538761dee76b6c87b%22,%22description%22:%22478515%22,%22segments%22:%5B%22864691136135021963%22%5D%7D,%7B%22tagIds%22:%5B%5D,%22type%22:%22point%22,%22point%22:%5B189754.0,260575.0,24066.0%5D,%22id%22:%220edd2e689bff6625b49cbef4dc833d174641457a%22,%22description%22:%22478567%22,%22segments%22:%5B%22864691135730811065%22%5D%7D,%7B%22tagIds%22:%5B%5D,%22type%22:%22point%22,%22point%22:%5B189717.0,260541.0,24142.0%5D,%22id%22:%22487ef2ff371408b2da630f665a00af323e7f2d84%22,%22description%22:%22478585%22,%22segments%22:%5B%22864691136135022219%22%5D%7D,%7B%22tagIds%22:%5B%5D,%22type%22:%22point%22,%22point%22:%5B191198.0,260665.0,24290.0%5D,%22id%22:%22c01160246b823088b382b24d71a928a542f16d7e%22,%22description%22:%22478628%22,%22segments%22:%5B%22864691135730811577%22%5D%7D,%7B%22tagIds%22:%5B%5D,%22type%22:%22point%22,%22point%22:%5B198527.0,261565.0,24558.0%5D,%22id%22:%22063bf60f552cb6bf7871da3416b71ebd1bc2419e%22,%22description%22:%22478682%22,%22segments%22:%5B%22864691135884481392%22%5D%7D,%7B%22tagIds%22:%5B%5D,%22type%22:%22point%22,%22point%22:%5B209743.0,258707.0,25671.0%5D,%22id%22:%2201b47ec5ef433c507e742c84ccb5d37bb4b61d99%22,%22description%22:%22478708%22,%22segments%22:%5B%22864691135454625130%22%5D%7D,%7B%22tagIds%22:%5B%5D,%22type%22:%22point%22,%22point%22:%5B211390.0,258447.0,25792.0%5D,%22id%22:%2260f7ef915bdfa953d09b16243ae4db3cc52623a0%22,%22description%22:%22478730%22,%22segments%22:%5B%22864691135800283234%22%5D%7D,%7B%22tagIds%22:%5B%5D,%22type%22:%22point%22,%22point%22:%5B165484.0,261331.0,23271.0%5D,%22id%22:%2242bfac76ca7237b9561956e3b2407db7f6d80297%22,%22description%22:%22478779%22,%22segments%22:%5B%22864691136266988276%22%5D%7D,%7B%22tagIds%22:%5B%5D,%22type%22:%22point%22,%22point%22:%5B161383.0,261321.0,24100.0%5D,%22id%22:%22985920c87c102bbd286373dd2504cc2ff354254e%22,%22description%22:%22478805%22,%22segments%22:%5B%22864691135724866475%22%5D%7D,%7B%22tagIds%22:%5B%5D,%22type%22:%22point%22,%22point%22:%5B144977.0,273280.0,24571.0%5D,%22id%22:%2236936fa1adcf1855613128b9043a89599d9f2faf%22,%22description%22:%22478838%22,%22segments%22:%5B%5D%7D,%7B%22tagIds%22:%5B%5D,%22type%22:%22point%22,%22point%22:%5B145100.0,273267.0,24577.0%5D,%22id%22:%226ea7ee77180f690d8c61eb04334fa0fd45561142%22,%22description%22:%22478868%22,%22segments%22:%5B%22864691135975014767%22%5D%7D,%7B%22tagIds%22:%5B%5D,%22type%22:%22point%22,%22point%22:%5B145167.0,273435.0,24544.0%5D,%22id%22:%22b84151d34163aa1b7eb65c25cdd39c1f17f2a5a5%22,%22description%22:%22478930%22,%22segments%22:%5B%22864691136741023836%22%5D%7D,%7B%22tagIds%22:%5B%5D,%22type%22:%22point%22,%22point%22:%5B155960.0,255718.0,23995.0%5D,%22id%22:%22ae45404508d2ff2475c446ce6ce736bcc948a36a%22,%22description%22:%22478971%22,%22segments%22:%5B%22864691135526534491%22%5D%7D,%7B%22tagIds%22:%5B%5D,%22type%22:%22point%22,%22point%22:%5B155599.0,252867.0,24019.0%5D,%22id%22:%227264426e80e033e0c0392979c9b28be36fb3013d%22,%22description%22:%22479005%22,%22segments%22:%5B%22864691135614637259%22%5D%7D,%7B%22tagIds%22:%5B%5D,%22type%22:%22point%22,%22point%22:%5B160048.0,238709.0,21468.0%5D,%22id%22:%22b93de873472697a99c1c467af48c7f9fd5913647%22,%22description%22:%22479078%22,%22segments%22:%5B%22864691135889062025%22%5D%7D,%7B%22tagIds%22:%5B%5D,%22type%22:%22point%22,%22point%22:%5B173333.0,241673.0,22067.0%5D,%22id%22:%22234913a7f3d27872844764fe3eeebb52d284d1bc%22,%22description%22:%22479106%22,%22segments%22:%5B%5D%7D,%7B%22tagIds%22:%5B%5D,%22type%22:%22point%22,%22point%22:%5B173326.0,241630.0,22069.0%5D,%22id%22:%2250c315507f4a0f2260829323729f2c068907e801%22,%22description%22:%22479126%22,%22segments%22:%5B%22864691135724868267%22%5D%7D,%7B%22tagIds%22:%5B%5D,%22type%22:%22point%22,%22point%22:%5B171380.0,245362.0,21719.0%5D,%22id%22:%229ef21ef9e81de5ea8536846e9546d978333f18a8%22,%22description%22:%22479150%22,%22segments%22:%5B%22864691135463220030%22%5D%7D,%7B%22tagIds%22:%5B%5D,%22type%22:%22point%22,%22point%22:%5B170235.0,249491.0,21453.0%5D,%22id%22:%223f6532801c08c1d7f9c3e201b5df714576f86870%22,%22description%22:%22479180%22,%22segments%22:%5B%22864691135737365124%22%5D%7D,%7B%22tagIds%22:%5B%5D,%22type%22:%22point%22,%22point%22:%5B172575.0,212595.0,22277.0%5D,%22id%22:%22ad085268ee2827ed3b3efc388ddcb9d34f507a02%22,%22description%22:%22479231%22,%22segments%22:%5B%22864691135785986500%22%5D%7D,%7B%22tagIds%22:%5B%5D,%22type%22:%22point%22,%22point%22:%5B172056.0,211970.0,22074.0%5D,%22id%22:%22c7ea56172217b5836c6d9846adbd489f50cae728%22,%22description%22:%22479336%22,%22segments%22:%5B%22864691135526535771%22%5D%7D,%7B%22tagIds%22:%5B%5D,%22type%22:%22point%22,%22point%22:%5B170415.0,209408.0,21146.0%5D,%22id%22:%22dce6e92d18c2e9df503a2ddd7a55bac33d6e58fa%22,%22description%22:%22479383%22,%22segments%22:%5B%22864691135889063561%22%5D%7D,%7B%22tagIds%22:%5B%5D,%22type%22:%22point%22,%22point%22:%5B182889.0,198160.0,19189.0%5D,%22id%22:%221f98a9503316233e75b7b7832ce7e7b4f2bcd49e%22,%22description%22:%22479392%22,%22segments%22:%5B%22864691135162919469%22%5D%7D,%7B%22tagIds%22:%5B%5D,%22type%22:%22point%22,%22point%22:%5B177447.0,257210.0,23026.0%5D,%22id%22:%222dfa3db3a8051ac2db5979e6182c5cfa5c3a201a%22,%22description%22:%22479573%22,%22segments%22:%5B%22864691136419132567%22%5D%7D,%7B%22tagIds%22:%5B%5D,%22type%22:%22point%22,%22point%22:%5B181086.0,261240.0,22244.0%5D,%22id%22:%22fd588d91f408170a0252db7f6e99f7c95da33409%22,%22description%22:%22479588%22,%22segments%22:%5B%22864691136100387957%22%5D%7D,%7B%22tagIds%22:%5B%5D,%22type%22:%22point%22,%22point%22:%5B177931.0,257980.0,22478.0%5D,%22id%22:%225d70392e10d412d174d7c75d833fb4c7fc9319ed%22,%22description%22:%22479595%22,%22segments%22:%5B%22864691136100388213%22%5D%7D,%7B%22tagIds%22:%5B%5D,%22type%22:%22point%22,%22point%22:%5B177782.0,258266.0,22318.0%5D,%22id%22:%22da229eb790fc0be1f7c14d2b34064bb70e1b623f%22,%22description%22:%22479602%22,%22segments%22:%5B%22864691135889064841%22%5D%7D,%7B%22tagIds%22:%5B%5D,%22type%22:%22point%22,%22point%22:%5B182962.0,260857.0,22093.0%5D,%22id%22:%22cd4ffe01b6a94b2a84d6f6db5ad1f7b62b99f486%22,%22description%22:%22479629%22,%22segments%22:%5B%22864691135256735151%22%5D%7D,%7B%22tagIds%22:%5B%5D,%22type%22:%22point%22,%22point%22:%5B182233.0,255425.0,23024.0%5D,%22id%22:%229c6cd7fe0795e2f00bd70287e28deb153c5ba751%22,%22description%22:%22479642%22,%22segments%22:%5B%22864691136100388469%22%5D%7D,%7B%22tagIds%22:%5B%5D,%22type%22:%22point%22,%22point%22:%5B181046.0,244518.0,22953.0%5D,%22id%22:%22ebe4cdc8f78d028a132cb8835a7593d82211efb9%22,%22description%22:%22479652%22,%22segments%22:%5B%22864691135082319607%22%5D%7D,%7B%22tagIds%22:%5B%5D,%22type%22:%22point%22,%22point%22:%5B180766.0,231542.0,22540.0%5D,%22id%22:%22081c9b48b0071bc1134fd7b49d5fa6cc7d591107%22,%22description%22:%22479732%22,%22segments%22:%5B%22864691136005385674%22%5D%7D%5D,%22name%22:%22split%22%7D%5D,%22selectedLayer%22:%7B%22layer%22:%22split%22%7D%7D\" target=\"_blank\">Neuroglancer Link</a>"
      ],
      "text/plain": [
       "<IPython.core.display.HTML object>"
      ]
     },
     "execution_count": 6,
     "metadata": {},
     "output_type": "execute_result"
    }
   ],
   "source": [
    "statebuilder.render_state(operations, return_as=\"html\")"
   ]
  }
 ],
 "metadata": {
  "kernelspec": {
   "display_name": ".venv",
   "language": "python",
   "name": "python3"
  },
  "language_info": {
   "codemirror_mode": {
    "name": "ipython",
    "version": 3
   },
   "file_extension": ".py",
   "mimetype": "text/x-python",
   "name": "python",
   "nbconvert_exporter": "python",
   "pygments_lexer": "ipython3",
   "version": "3.11.6"
  }
 },
 "nbformat": 4,
 "nbformat_minor": 2
}
